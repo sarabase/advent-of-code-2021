{
 "cells": [
  {
   "cell_type": "code",
   "execution_count": 1,
   "id": "de03c6d3",
   "metadata": {},
   "outputs": [],
   "source": [
    "import os\n",
    "\n",
    "def read_file(filename='input.txt', path=os.path.join(os.getcwd())):\n",
    "    with open(os.path.join(path, filename), \"r\") as f:\n",
    "        input_list = [line.strip() for line in f]\n",
    "    return input_list"
   ]
  },
  {
   "cell_type": "markdown",
   "id": "306deb04",
   "metadata": {},
   "source": [
    "# Day 5"
   ]
  },
  {
   "cell_type": "markdown",
   "id": "02b1cadd",
   "metadata": {},
   "source": [
    "## Part 1"
   ]
  },
  {
   "cell_type": "raw",
   "id": "eb0c8736",
   "metadata": {},
   "source": [
    "You come across a field of hydrothermal vents on the ocean floor! These vents constantly produce large, opaque clouds, so it would be best to avoid them if possible.\n",
    "\n",
    "They tend to form in lines; the submarine helpfully produces a list of nearby lines of vents (your puzzle input) for you to review. For example:\n",
    "\n",
    "0,9 -> 5,9\n",
    "8,0 -> 0,8\n",
    "9,4 -> 3,4\n",
    "2,2 -> 2,1\n",
    "7,0 -> 7,4\n",
    "6,4 -> 2,0\n",
    "0,9 -> 2,9\n",
    "3,4 -> 1,4\n",
    "0,0 -> 8,8\n",
    "5,5 -> 8,2\n",
    "Each line of vents is given as a line segment in the format x1,y1 -> x2,y2 where x1,y1 are the coordinates of one end the line segment and x2,y2 are the coordinates of the other end. These line segments include the points at both ends. In other words:\n",
    "\n",
    "An entry like 1,1 -> 1,3 covers points 1,1, 1,2, and 1,3.\n",
    "An entry like 9,7 -> 7,7 covers points 9,7, 8,7, and 7,7.\n",
    "For now, only consider horizontal and vertical lines: lines where either x1 = x2 or y1 = y2.\n",
    "\n",
    "So, the horizontal and vertical lines from the above list would produce the following diagram:\n",
    "\n",
    ".......1..\n",
    "..1....1..\n",
    "..1....1..\n",
    ".......1..\n",
    ".112111211\n",
    "..........\n",
    "..........\n",
    "..........\n",
    "..........\n",
    "222111....\n",
    "In this diagram, the top left corner is 0,0 and the bottom right corner is 9,9. Each position is shown as the number of lines which cover that point or . if no line covers that point. The top-left pair of 1s, for example, comes from 2,2 -> 2,1; the very bottom row is formed by the overlapping lines 0,9 -> 5,9 and 0,9 -> 2,9.\n",
    "\n",
    "To avoid the most dangerous areas, you need to determine the number of points where at least two lines overlap. In the above example, this is anywhere in the diagram with a 2 or larger - a total of 5 points.\n",
    "\n",
    "Consider only horizontal and vertical lines. At how many points do at least two lines overlap?"
   ]
  },
  {
   "cell_type": "code",
   "execution_count": 2,
   "id": "0853a946",
   "metadata": {},
   "outputs": [
    {
     "name": "stdout",
     "output_type": "stream",
     "text": [
      "4745\n"
     ]
    }
   ],
   "source": [
    "import numpy as np\n",
    "input5 = read_file('input5.txt')\n",
    "\n",
    "lines = []\n",
    "for line in input5:\n",
    "    start, end = line.split('->')\n",
    "    start_x, start_y = start.split(',')\n",
    "    end_x, end_y = end.split(',')\n",
    "    lines.append((int(start_x), int(start_y), int(end_x), int(end_y)))\n",
    "    \n",
    "max_num = max([max(line) for line in lines])\n",
    "\n",
    "matrix = np.zeros((max_num+1,max_num+1))\n",
    "\n",
    "for line in lines:\n",
    "    #Comprobar si es vertical\n",
    "    if line[0] == line[2]:\n",
    "        if line[1] <= line[3]:\n",
    "            for y in range(line[1], line[3]+1):\n",
    "                matrix[line[0]][y] += 1\n",
    "        else:\n",
    "            for y in range(line[3], line[1]+1):\n",
    "                matrix[line[0]][y] += 1\n",
    "    #Comprobar si es horizontal\n",
    "    if line[1] == line[3]:\n",
    "        if line[0] <= line[2]:\n",
    "            for x in range(line[0], line[2]+1):\n",
    "                matrix[x][line[1]] += 1\n",
    "        else:\n",
    "            for x in range(line[2], line[0]+1):\n",
    "                matrix[x][line[1]] += 1\n",
    "\n",
    "result = sum([(row>=2).sum() for row in matrix])\n",
    "\n",
    "print(result)"
   ]
  },
  {
   "cell_type": "markdown",
   "id": "65715fc1",
   "metadata": {},
   "source": [
    "## Part 2"
   ]
  },
  {
   "cell_type": "raw",
   "id": "5f29f824",
   "metadata": {},
   "source": [
    "Unfortunately, considering only horizontal and vertical lines doesn't give you the full picture; you need to also consider diagonal lines.\n",
    "\n",
    "Because of the limits of the hydrothermal vent mapping system, the lines in your list will only ever be horizontal, vertical, or a diagonal line at exactly 45 degrees. In other words:\n",
    "\n",
    "An entry like 1,1 -> 3,3 covers points 1,1, 2,2, and 3,3.\n",
    "An entry like 9,7 -> 7,9 covers points 9,7, 8,8, and 7,9.\n",
    "Considering all lines from the above example would now produce the following diagram:\n",
    "\n",
    "1.1....11.\n",
    ".111...2..\n",
    "..2.1.111.\n",
    "...1.2.2..\n",
    ".112313211\n",
    "...1.2....\n",
    "..1...1...\n",
    ".1.....1..\n",
    "1.......1.\n",
    "222111....\n",
    "You still need to determine the number of points where at least two lines overlap. In the above example, this is still anywhere in the diagram with a 2 or larger - now a total of 12 points.\n",
    "\n",
    "Consider all of the lines. At how many points do at least two lines overlap?"
   ]
  },
  {
   "cell_type": "code",
   "execution_count": 3,
   "id": "2aabeef2",
   "metadata": {},
   "outputs": [
    {
     "name": "stdout",
     "output_type": "stream",
     "text": [
      "18442\n"
     ]
    }
   ],
   "source": [
    "import numpy as np\n",
    "input5 = read_file('input5.txt')\n",
    "\n",
    "lines = []\n",
    "for line in input5:\n",
    "    start, end = line.split('->')\n",
    "    start_x, start_y = start.split(',')\n",
    "    end_x, end_y = end.split(',')\n",
    "    lines.append((int(start_x), int(start_y), int(end_x), int(end_y)))\n",
    "    \n",
    "max_num = max([max(line) for line in lines])\n",
    "\n",
    "matrix = np.zeros((max_num+1,max_num+1))\n",
    "\n",
    "for line in lines:\n",
    "    #Comprobar si es vertical\n",
    "    if line[0] == line[2]:\n",
    "        if line[1] <= line[3]:\n",
    "            for y in range(line[1], line[3]+1):\n",
    "                matrix[line[0]][y] += 1\n",
    "        else:\n",
    "            for y in range(line[3], line[1]+1):\n",
    "                matrix[line[0]][y] += 1\n",
    "    #Comprobar si es horizontal\n",
    "    elif line[1] == line[3]:\n",
    "        if line[0] <= line[2]:\n",
    "            for x in range(line[0], line[2]+1):\n",
    "                matrix[x][line[1]] += 1\n",
    "        else:\n",
    "            for x in range(line[2], line[0]+1):\n",
    "                matrix[x][line[1]] += 1\n",
    "    #Considerar lineas diagonales\n",
    "    else:\n",
    "        grow_x = (line[0]-line[2]) < 0\n",
    "        grow_y = (line[1]-line[3]) < 0\n",
    "        if grow_x:\n",
    "            for i in range(line[0],line[2]+1):\n",
    "                if grow_y:\n",
    "                    matrix[i,line[1]+i-line[0]] += 1\n",
    "                else:\n",
    "                    matrix[i,line[1]-i+line[0]] += 1\n",
    "        else:\n",
    "            for i in range(line[2],line[0]+1):\n",
    "                if grow_y:\n",
    "                    matrix[i,line[1]-i+line[0]] += 1\n",
    "                else:\n",
    "                    matrix[i,line[3]+i-line[2]] += 1\n",
    "\n",
    "result = sum([(row>=2).sum() for row in matrix])\n",
    "\n",
    "print(result)"
   ]
  },
  {
   "cell_type": "code",
   "execution_count": null,
   "id": "b3e7fb08",
   "metadata": {},
   "outputs": [],
   "source": []
  }
 ],
 "metadata": {
  "kernelspec": {
   "display_name": "Python 3",
   "language": "python",
   "name": "python3"
  },
  "language_info": {
   "codemirror_mode": {
    "name": "ipython",
    "version": 3
   },
   "file_extension": ".py",
   "mimetype": "text/x-python",
   "name": "python",
   "nbconvert_exporter": "python",
   "pygments_lexer": "ipython3",
   "version": "3.8.8"
  }
 },
 "nbformat": 4,
 "nbformat_minor": 5
}
