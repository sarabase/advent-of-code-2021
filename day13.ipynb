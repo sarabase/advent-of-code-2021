{
 "cells": [
  {
   "cell_type": "code",
   "execution_count": 54,
   "id": "de03c6d3",
   "metadata": {},
   "outputs": [],
   "source": [
    "import os\n",
    "\n",
    "def read_file(filename='input.txt', path=os.path.join(os.getcwd())):\n",
    "    with open(os.path.join(path, filename), \"r\") as f:\n",
    "        input_list = [line.strip() for line in f]\n",
    "    return input_list"
   ]
  },
  {
   "cell_type": "markdown",
   "id": "306deb04",
   "metadata": {},
   "source": [
    "# Day 13"
   ]
  },
  {
   "cell_type": "markdown",
   "id": "02b1cadd",
   "metadata": {},
   "source": [
    "## Part 1"
   ]
  },
  {
   "cell_type": "raw",
   "id": "eb0c8736",
   "metadata": {},
   "source": [
    "You reach another volcanically active part of the cave. It would be nice if you could do some kind of thermal imaging so you could tell ahead of time which caves are too hot to safely enter.\n",
    "\n",
    "Fortunately, the submarine seems to be equipped with a thermal camera! When you activate it, you are greeted with:\n",
    "\n",
    "Congratulations on your purchase! To activate this infrared thermal imaging\n",
    "camera system, please enter the code found on page 1 of the manual.\n",
    "Apparently, the Elves have never used this feature. To your surprise, you manage to find the manual; as you go to open it, page 1 falls out. It's a large sheet of transparent paper! The transparent paper is marked with random dots and includes instructions on how to fold it up (your puzzle input). For example:\n",
    "\n",
    "6,10\n",
    "0,14\n",
    "9,10\n",
    "0,3\n",
    "10,4\n",
    "4,11\n",
    "6,0\n",
    "6,12\n",
    "4,1\n",
    "0,13\n",
    "10,12\n",
    "3,4\n",
    "3,0\n",
    "8,4\n",
    "1,10\n",
    "2,14\n",
    "8,10\n",
    "9,0\n",
    "\n",
    "fold along y=7\n",
    "fold along x=5\n",
    "The first section is a list of dots on the transparent paper. 0,0 represents the top-left coordinate. The first value, x, increases to the right. The second value, y, increases downward. So, the coordinate 3,0 is to the right of 0,0, and the coordinate 0,7 is below 0,0. The coordinates in this example form the following pattern, where # is a dot on the paper and . is an empty, unmarked position:\n",
    "\n",
    "...#..#..#.\n",
    "....#......\n",
    "...........\n",
    "#..........\n",
    "...#....#.#\n",
    "...........\n",
    "...........\n",
    "...........\n",
    "...........\n",
    "...........\n",
    ".#....#.##.\n",
    "....#......\n",
    "......#...#\n",
    "#..........\n",
    "#.#........\n",
    "Then, there is a list of fold instructions. Each instruction indicates a line on the transparent paper and wants you to fold the paper up (for horizontal y=... lines) or left (for vertical x=... lines). In this example, the first fold instruction is fold along y=7, which designates the line formed by all of the positions where y is 7 (marked here with -):\n",
    "\n",
    "...#..#..#.\n",
    "....#......\n",
    "...........\n",
    "#..........\n",
    "...#....#.#\n",
    "...........\n",
    "...........\n",
    "-----------\n",
    "...........\n",
    "...........\n",
    ".#....#.##.\n",
    "....#......\n",
    "......#...#\n",
    "#..........\n",
    "#.#........\n",
    "Because this is a horizontal line, fold the bottom half up. Some of the dots might end up overlapping after the fold is complete, but dots will never appear exactly on a fold line. The result of doing this fold looks like this:\n",
    "\n",
    "#.##..#..#.\n",
    "#...#......\n",
    "......#...#\n",
    "#...#......\n",
    ".#.#..#.###\n",
    "...........\n",
    "...........\n",
    "Now, only 17 dots are visible.\n",
    "\n",
    "Notice, for example, the two dots in the bottom left corner before the transparent paper is folded; after the fold is complete, those dots appear in the top left corner (at 0,0 and 0,1). Because the paper is transparent, the dot just below them in the result (at 0,3) remains visible, as it can be seen through the transparent paper.\n",
    "\n",
    "Also notice that some dots can end up overlapping; in this case, the dots merge together and become a single dot.\n",
    "\n",
    "The second fold instruction is fold along x=5, which indicates this line:\n",
    "\n",
    "#.##.|#..#.\n",
    "#...#|.....\n",
    ".....|#...#\n",
    "#...#|.....\n",
    ".#.#.|#.###\n",
    ".....|.....\n",
    ".....|.....\n",
    "Because this is a vertical line, fold left:\n",
    "\n",
    "#####\n",
    "#...#\n",
    "#...#\n",
    "#...#\n",
    "#####\n",
    ".....\n",
    ".....\n",
    "The instructions made a square!\n",
    "\n",
    "The transparent paper is pretty big, so for now, focus on just completing the first fold. After the first fold in the example above, 17 dots are visible - dots that end up overlapping after the fold is completed count as a single dot.\n",
    "\n",
    "How many dots are visible after completing just the first fold instruction on your transparent paper?"
   ]
  },
  {
   "cell_type": "code",
   "execution_count": 55,
   "id": "b7294f82",
   "metadata": {},
   "outputs": [],
   "source": [
    "import numpy as np\n",
    "def build_paper(paper_points):\n",
    "    \n",
    "    num_rows = max([point[0] for point in paper_points])\n",
    "    num_cols = max([point[1] for point in paper_points])\n",
    "    paper = np.zeros((num_cols+1, num_rows+1))\n",
    "    \n",
    "    for x, y in paper_points:\n",
    "        paper[y][x] = 1\n",
    "    \n",
    "    return paper"
   ]
  },
  {
   "cell_type": "code",
   "execution_count": 56,
   "id": "64b1eae3",
   "metadata": {},
   "outputs": [],
   "source": [
    "def fold_vertical(paper, col_num):\n",
    "    new_paper = np.zeros((paper.shape[0], col_num))\n",
    "    \n",
    "    paper_flip = np.flip(paper, 1)\n",
    "    for x in range(paper.shape[0]):\n",
    "        for y in range(col_num+1):\n",
    "            if paper[x][y] == 1 or paper_flip[x][y]== 1:\n",
    "                new_paper[x][y] = 1\n",
    "    return new_paper"
   ]
  },
  {
   "cell_type": "code",
   "execution_count": 57,
   "id": "82cd4f76",
   "metadata": {},
   "outputs": [],
   "source": [
    "def fold_horizontal(paper, row_num):\n",
    "    new_paper = np.zeros((row_num, paper.shape[1]))\n",
    "    \n",
    "    paper_flip = np.flip(paper, 0)\n",
    "    for x in range(row_num+1):\n",
    "        for y in range(paper.shape[1]):\n",
    "            if paper[x][y] == 1 or paper_flip[x][y]== 1:\n",
    "                new_paper[x][y] = 1\n",
    "    return new_paper"
   ]
  },
  {
   "cell_type": "code",
   "execution_count": 63,
   "id": "386363e7",
   "metadata": {},
   "outputs": [
    {
     "name": "stdout",
     "output_type": "stream",
     "text": [
      "712 dots are visible after completing just the first fold instruction on the transparent paper.\n"
     ]
    }
   ],
   "source": [
    "input13 = read_file('input13.txt')\n",
    "paper_points = []\n",
    "fold_instruct = []\n",
    "for d in input13:\n",
    "    if 'fold' in d:\n",
    "        fold_instruct.append((d.split('=')[0][-1], int(d.split('=')[1])))\n",
    "    elif d == '':\n",
    "        continue\n",
    "    else:\n",
    "        paper_points.append((int(d.split(',')[0]), int(d.split(',')[1])))\n",
    "\n",
    "paper = build_paper(paper_points)\n",
    "\n",
    "first_instruct = fold_instruct[0]\n",
    "\n",
    "if first_instruct[0] == 'x':\n",
    "    paper = fold_vertical(paper, first_instruct[1])\n",
    "else:\n",
    "    paper = fold_horizontal(paper, first_instruct[1])\n",
    "\n",
    "visible_dots = np.count_nonzero(paper == 1)\n",
    "\n",
    "print(f'{visible_dots} dots are visible after completing just the first fold instruction on the transparent paper.')"
   ]
  },
  {
   "cell_type": "markdown",
   "id": "65715fc1",
   "metadata": {},
   "source": [
    "## Part 2"
   ]
  },
  {
   "cell_type": "raw",
   "id": "5f29f824",
   "metadata": {},
   "source": [
    "Finish folding the transparent paper according to the instructions. The manual says the code is always eight capital letters.\n",
    "\n",
    "What code do you use to activate the infrared thermal imaging camera system?"
   ]
  },
  {
   "cell_type": "code",
   "execution_count": 64,
   "id": "2aabeef2",
   "metadata": {},
   "outputs": [],
   "source": [
    "input13 = read_file('input13.txt')\n",
    "paper_points = []\n",
    "fold_instruct = []\n",
    "for d in input13:\n",
    "    if 'fold' in d:\n",
    "        fold_instruct.append((d.split('=')[0][-1], int(d.split('=')[1])))\n",
    "    elif d == '':\n",
    "        continue\n",
    "    else:\n",
    "        paper_points.append((int(d.split(',')[0]), int(d.split(',')[1])))\n",
    "\n",
    "paper = build_paper(paper_points)\n",
    "\n",
    "for instruct in fold_instruct:\n",
    "    if instruct[0] == 'x':\n",
    "        paper = fold_vertical(paper, instruct[1])\n",
    "    else:\n",
    "        paper = fold_horizontal(paper, instruct[1])"
   ]
  },
  {
   "cell_type": "code",
   "execution_count": 65,
   "id": "b3e7fb08",
   "metadata": {},
   "outputs": [],
   "source": [
    "mat = np.matrix(paper)\n",
    "with open('outfile13.txt','wb') as f:\n",
    "    for line in mat:\n",
    "        np.savetxt(f, line, fmt='%.0f')"
   ]
  },
  {
   "cell_type": "markdown",
   "id": "5fce3129",
   "metadata": {},
   "source": [
    "### The code used to activate the infrared thermal imaging camera system is: "
   ]
  },
  {
   "cell_type": "markdown",
   "id": "65f3a4bd",
   "metadata": {},
   "source": [
    "![alt text](files_day13/result13.png \"Result\")"
   ]
  },
  {
   "cell_type": "markdown",
   "id": "5dbea82e",
   "metadata": {},
   "source": []
  }
 ],
 "metadata": {
  "kernelspec": {
   "display_name": "Python 3",
   "language": "python",
   "name": "python3"
  },
  "language_info": {
   "codemirror_mode": {
    "name": "ipython",
    "version": 3
   },
   "file_extension": ".py",
   "mimetype": "text/x-python",
   "name": "python",
   "nbconvert_exporter": "python",
   "pygments_lexer": "ipython3",
   "version": "3.8.8"
  }
 },
 "nbformat": 4,
 "nbformat_minor": 5
}
