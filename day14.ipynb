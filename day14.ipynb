{
 "cells": [
  {
   "cell_type": "code",
   "execution_count": 2,
   "id": "de03c6d3",
   "metadata": {},
   "outputs": [],
   "source": [
    "import os\n",
    "\n",
    "def read_file(filename='input.txt', path=os.path.join(os.getcwd())):\n",
    "    with open(os.path.join(path, filename), \"r\") as f:\n",
    "        input_list = [line.strip() for line in f]\n",
    "    return input_list"
   ]
  },
  {
   "cell_type": "markdown",
   "id": "306deb04",
   "metadata": {},
   "source": [
    "# Day 14"
   ]
  },
  {
   "cell_type": "markdown",
   "id": "02b1cadd",
   "metadata": {},
   "source": [
    "## Part 1"
   ]
  },
  {
   "cell_type": "raw",
   "id": "eb0c8736",
   "metadata": {},
   "source": [
    "The incredible pressures at this depth are starting to put a strain on your submarine. The submarine has polymerization equipment that would produce suitable materials to reinforce the submarine, and the nearby volcanically-active caves should even have the necessary input elements in sufficient quantities.\n",
    "\n",
    "The submarine manual contains instructions for finding the optimal polymer formula; specifically, it offers a polymer template and a list of pair insertion rules (your puzzle input). You just need to work out what polymer would result after repeating the pair insertion process a few times.\n",
    "\n",
    "For example:\n",
    "\n",
    "NNCB\n",
    "\n",
    "CH -> B\n",
    "HH -> N\n",
    "CB -> H\n",
    "NH -> C\n",
    "HB -> C\n",
    "HC -> B\n",
    "HN -> C\n",
    "NN -> C\n",
    "BH -> H\n",
    "NC -> B\n",
    "NB -> B\n",
    "BN -> B\n",
    "BB -> N\n",
    "BC -> B\n",
    "CC -> N\n",
    "CN -> C\n",
    "The first line is the polymer template - this is the starting point of the process.\n",
    "\n",
    "The following section defines the pair insertion rules. A rule like AB -> C means that when elements A and B are immediately adjacent, element C should be inserted between them. These insertions all happen simultaneously.\n",
    "\n",
    "So, starting with the polymer template NNCB, the first step simultaneously considers all three pairs:\n",
    "\n",
    "The first pair (NN) matches the rule NN -> C, so element C is inserted between the first N and the second N.\n",
    "The second pair (NC) matches the rule NC -> B, so element B is inserted between the N and the C.\n",
    "The third pair (CB) matches the rule CB -> H, so element H is inserted between the C and the B.\n",
    "Note that these pairs overlap: the second element of one pair is the first element of the next pair. Also, because all pairs are considered simultaneously, inserted elements are not considered to be part of a pair until the next step.\n",
    "\n",
    "After the first step of this process, the polymer becomes NCNBCHB.\n",
    "\n",
    "Here are the results of a few steps using the above rules:\n",
    "\n",
    "Template:     NNCB\n",
    "After step 1: NCNBCHB\n",
    "After step 2: NBCCNBBBCBHCB\n",
    "After step 3: NBBBCNCCNBBNBNBBCHBHHBCHB\n",
    "After step 4: NBBNBNBBCCNBCNCCNBBNBBNBBBNBBNBBCBHCBHHNHCBBCBHCB\n",
    "This polymer grows quickly. After step 5, it has length 97; After step 10, it has length 3073. After step 10, B occurs 1749 times, C occurs 298 times, H occurs 161 times, and N occurs 865 times; taking the quantity of the most common element (B, 1749) and subtracting the quantity of the least common element (H, 161) produces 1749 - 161 = 1588.\n",
    "\n",
    "Apply 10 steps of pair insertion to the polymer template and find the most and least common elements in the result. What do you get if you take the quantity of the most common element and subtract the quantity of the least common element?"
   ]
  },
  {
   "cell_type": "markdown",
   "id": "f750808f",
   "metadata": {},
   "source": [
    "#### First attempt"
   ]
  },
  {
   "cell_type": "code",
   "execution_count": 63,
   "id": "386363e7",
   "metadata": {},
   "outputs": [
    {
     "name": "stdout",
     "output_type": "stream",
     "text": [
      "If you take the quantity of the most common element and subtract the quantity of the least common element you get 2112\n"
     ]
    }
   ],
   "source": [
    "input14 = read_file('input14.txt')\n",
    "\n",
    "poly = input14[0]\n",
    "insert_dict = {}\n",
    "for d in input14[2:]:\n",
    "    pair, letter = d.split(' -> ')\n",
    "    insert_dict[pair] = pair[0] + letter + pair[1]\n",
    "\n",
    "steps = 10\n",
    "for i in range(steps):\n",
    "    new_poly = ''\n",
    "    for i in range(len(poly)-1):\n",
    "        if poly[i:i+2] in insert_dict.keys():\n",
    "            new_poly += insert_dict[poly[i:i+2]][:-1]\n",
    "            i += 1\n",
    "        else:\n",
    "            new_poly += poly[i]\n",
    "    new_poly += poly[-1]\n",
    "    poly = new_poly\n",
    "\n",
    "max_letter = max([poly.count(c) for c in list(set(poly))])\n",
    "min_letter = min([poly.count(c) for c in list(set(poly))])\n",
    "print(f'If you take the quantity of the most common element and subtract the quantity of the least common element you get {max_letter - min_letter}')"
   ]
  },
  {
   "cell_type": "markdown",
   "id": "563f6ff4",
   "metadata": {},
   "source": [
    "#### Second attempt"
   ]
  },
  {
   "cell_type": "code",
   "execution_count": 62,
   "id": "164ae935",
   "metadata": {},
   "outputs": [
    {
     "name": "stdout",
     "output_type": "stream",
     "text": [
      "If you take the quantity of the most common element and subtract the quantity of the least common element you get 2112\n"
     ]
    }
   ],
   "source": [
    "from collections import defaultdict\n",
    "\n",
    "data = read_file('input14.txt')\n",
    "poly = data[0]\n",
    "rules = {pair: letter for pair, letter in [d.split(' -> ') for d in data[2:]]}\n",
    "\n",
    "poly_count = defaultdict(int)\n",
    "letter_count = defaultdict(int)\n",
    "\n",
    "#Initialize counters\n",
    "for i in range(len(poly)-1):\n",
    "    poly_count[poly[i:i+2]] += 1\n",
    "    letter_count[poly[i]] += 1\n",
    "letter_count[poly[-1]] += 1\n",
    "\n",
    "steps = 10\n",
    "for i in range(steps):\n",
    "    new_poly_count = defaultdict(int)\n",
    "    for key in poly_count:\n",
    "        letter_times = poly_count[key]\n",
    "        letter = rules[key]\n",
    "        new_poly_count[key[0]+letter] += letter_times\n",
    "        new_poly_count[letter+key[1]] += letter_times\n",
    "        letter_count[letter] += letter_times\n",
    "    poly_count = new_poly_count\n",
    "\n",
    "max_letter = max(letter_count.values())\n",
    "min_letter = min(letter_count.values())\n",
    "\n",
    "print(f'If you take the quantity of the most common element and subtract the quantity of the least common element you get {max_letter - min_letter}')"
   ]
  },
  {
   "cell_type": "markdown",
   "id": "65715fc1",
   "metadata": {},
   "source": [
    "## Part 2"
   ]
  },
  {
   "cell_type": "raw",
   "id": "5f29f824",
   "metadata": {},
   "source": [
    "The resulting polymer isn't nearly strong enough to reinforce the submarine. You'll need to run more steps of the pair insertion process; a total of 40 steps should do it.\n",
    "\n",
    "In the above example, the most common element is B (occurring 2192039569602 times) and the least common element is H (occurring 3849876073 times); subtracting these produces 2188189693529.\n",
    "\n",
    "Apply 40 steps of pair insertion to the polymer template and find the most and least common elements in the result. What do you get if you take the quantity of the most common element and subtract the quantity of the least common element?"
   ]
  },
  {
   "cell_type": "code",
   "execution_count": 61,
   "id": "2aabeef2",
   "metadata": {},
   "outputs": [
    {
     "name": "stdout",
     "output_type": "stream",
     "text": [
      "If you take the quantity of the most common element and subtract the quantity of the least common element you get 3243771149914\n"
     ]
    }
   ],
   "source": [
    "from collections import defaultdict\n",
    "\n",
    "data = read_file('input14.txt')\n",
    "poly = data[0]\n",
    "rules = {pair: letter for pair, letter in [d.split(' -> ') for d in data[2:]]}\n",
    "\n",
    "poly_count = defaultdict(int)\n",
    "letter_count = defaultdict(int)\n",
    "\n",
    "#Initialize counters\n",
    "for i in range(len(poly)-1):\n",
    "    poly_count[poly[i:i+2]] += 1\n",
    "    letter_count[poly[i]] += 1\n",
    "letter_count[poly[-1]] += 1\n",
    "\n",
    "steps = 40\n",
    "for i in range(steps):\n",
    "    new_poly_count = defaultdict(int)\n",
    "    for key in poly_count:\n",
    "        letter_times = poly_count[key]\n",
    "        letter = rules[key]\n",
    "        new_poly_count[key[0]+letter] += letter_times\n",
    "        new_poly_count[letter+key[1]] += letter_times\n",
    "        letter_count[letter] += letter_times\n",
    "    poly_count = new_poly_count\n",
    "\n",
    "max_letter = max(letter_count.values())\n",
    "min_letter = min(letter_count.values())\n",
    "\n",
    "print(f'If you take the quantity of the most common element and subtract the quantity of the least common element you get {max_letter - min_letter}')"
   ]
  },
  {
   "cell_type": "code",
   "execution_count": null,
   "id": "b29947aa",
   "metadata": {},
   "outputs": [],
   "source": []
  }
 ],
 "metadata": {
  "kernelspec": {
   "display_name": "Python 3",
   "language": "python",
   "name": "python3"
  },
  "language_info": {
   "codemirror_mode": {
    "name": "ipython",
    "version": 3
   },
   "file_extension": ".py",
   "mimetype": "text/x-python",
   "name": "python",
   "nbconvert_exporter": "python",
   "pygments_lexer": "ipython3",
   "version": "3.8.8"
  }
 },
 "nbformat": 4,
 "nbformat_minor": 5
}
