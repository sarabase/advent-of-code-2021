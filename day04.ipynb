{
 "cells": [
  {
   "cell_type": "code",
   "execution_count": 1,
   "id": "de03c6d3",
   "metadata": {},
   "outputs": [],
   "source": [
    "import os\n",
    "\n",
    "def read_file(filename='input.txt', path=os.path.join(os.getcwd())):\n",
    "    with open(os.path.join(path, filename), \"r\") as f:\n",
    "        input_list = [line.strip() for line in f]\n",
    "    return input_list"
   ]
  },
  {
   "cell_type": "markdown",
   "id": "306deb04",
   "metadata": {},
   "source": [
    "# Day 4"
   ]
  },
  {
   "cell_type": "markdown",
   "id": "02b1cadd",
   "metadata": {},
   "source": [
    "## Part 1"
   ]
  },
  {
   "cell_type": "raw",
   "id": "eb0c8736",
   "metadata": {},
   "source": [
    "You're already almost 1.5km (almost a mile) below the surface of the ocean, already so deep that you can't see any sunlight. What you can see, however, is a giant squid that has attached itself to the outside of your submarine.\n",
    "\n",
    "Maybe it wants to play bingo?\n",
    "\n",
    "Bingo is played on a set of boards each consisting of a 5x5 grid of numbers. Numbers are chosen at random, and the chosen number is marked on all boards on which it appears. (Numbers may not appear on all boards.) If all numbers in any row or any column of a board are marked, that board wins. (Diagonals don't count.)\n",
    "\n",
    "The submarine has a bingo subsystem to help passengers (currently, you and the giant squid) pass the time. It automatically generates a random order in which to draw numbers and a random set of boards (your puzzle input). For example:\n",
    "\n",
    "7,4,9,5,11,17,23,2,0,14,21,24,10,16,13,6,15,25,12,22,18,20,8,19,3,26,1\n",
    "\n",
    "22 13 17 11  0\n",
    " 8  2 23  4 24\n",
    "21  9 14 16  7\n",
    " 6 10  3 18  5\n",
    " 1 12 20 15 19\n",
    "\n",
    " 3 15  0  2 22\n",
    " 9 18 13 17  5\n",
    "19  8  7 25 23\n",
    "20 11 10 24  4\n",
    "14 21 16 12  6\n",
    "\n",
    "14 21 17 24  4\n",
    "10 16 15  9 19\n",
    "18  8 23 26 20\n",
    "22 11 13  6  5\n",
    " 2  0 12  3  7\n",
    "After the first five numbers are drawn (7, 4, 9, 5, and 11), there are no winners, but the boards are marked as follows (shown here adjacent to each other to save space):\n",
    "\n",
    "22 13 17 11  0         3 15  0  2 22        14 21 17 24  4\n",
    " 8  2 23  4 24         9 18 13 17  5        10 16 15  9 19\n",
    "21  9 14 16  7        19  8  7 25 23        18  8 23 26 20\n",
    " 6 10  3 18  5        20 11 10 24  4        22 11 13  6  5\n",
    " 1 12 20 15 19        14 21 16 12  6         2  0 12  3  7\n",
    "After the next six numbers are drawn (17, 23, 2, 0, 14, and 21), there are still no winners:\n",
    "\n",
    "22 13 17 11  0         3 15  0  2 22        14 21 17 24  4\n",
    " 8  2 23  4 24         9 18 13 17  5        10 16 15  9 19\n",
    "21  9 14 16  7        19  8  7 25 23        18  8 23 26 20\n",
    " 6 10  3 18  5        20 11 10 24  4        22 11 13  6  5\n",
    " 1 12 20 15 19        14 21 16 12  6         2  0 12  3  7\n",
    "Finally, 24 is drawn:\n",
    "\n",
    "22 13 17 11  0         3 15  0  2 22        14 21 17 24  4\n",
    " 8  2 23  4 24         9 18 13 17  5        10 16 15  9 19\n",
    "21  9 14 16  7        19  8  7 25 23        18  8 23 26 20\n",
    " 6 10  3 18  5        20 11 10 24  4        22 11 13  6  5\n",
    " 1 12 20 15 19        14 21 16 12  6         2  0 12  3  7\n",
    "At this point, the third board wins because it has at least one complete row or column of marked numbers (in this case, the entire top row is marked: 14 21 17 24 4).\n",
    "\n",
    "The score of the winning board can now be calculated. Start by finding the sum of all unmarked numbers on that board; in this case, the sum is 188. Then, multiply that sum by the number that was just called when the board won, 24, to get the final score, 188 * 24 = 4512.\n",
    "\n",
    "To guarantee victory against the giant squid, figure out which board will win first. What will your final score be if you choose that board?"
   ]
  },
  {
   "cell_type": "code",
   "execution_count": 2,
   "id": "898ffa90",
   "metadata": {},
   "outputs": [],
   "source": [
    "def find_winner(numbers_drawn, boards):\n",
    "    for board in boards:\n",
    "        #Hay que comprobar por filas y por columnas. Comprobaremos por filas y por filas de la transpuesta.\n",
    "        board_t = list(map(list, zip(*board)))\n",
    "        for b in [board, board_t]:\n",
    "            for row in b:\n",
    "                all_numbers_found = True\n",
    "                for number in row:\n",
    "                    if number not in numbers_drawn:\n",
    "                        all_numbers_found = False\n",
    "                        break\n",
    "                if all_numbers_found:\n",
    "                    print('winner found')\n",
    "                    return board\n",
    "        \n",
    "    return None"
   ]
  },
  {
   "cell_type": "code",
   "execution_count": 3,
   "id": "8b9f3ac0",
   "metadata": {},
   "outputs": [],
   "source": [
    "def find_score(numbers_drawn, board):\n",
    "    not_drawn = []\n",
    "    for row in board:\n",
    "        for number in row:\n",
    "            if number not in numbers_drawn:\n",
    "                not_drawn.append(int(number))\n",
    "    score = sum(not_drawn)*int(numbers_drawn[-1])\n",
    "    return score"
   ]
  },
  {
   "cell_type": "code",
   "execution_count": 4,
   "id": "386363e7",
   "metadata": {},
   "outputs": [
    {
     "name": "stdout",
     "output_type": "stream",
     "text": [
      "winner found\n",
      "63424\n"
     ]
    }
   ],
   "source": [
    "input4 = read_file('input04.txt')\n",
    "numbers_called = input4[0].split(',')\n",
    "\n",
    "boards = []\n",
    "for i in range(round(len(input4[2:])/6)):\n",
    "    boards.append([strip.split() for strip in input4[2+6*i:7+6*i]])\n",
    "\n",
    "for i in range(len(numbers_called)):\n",
    "    winner = find_winner(numbers_called[:i], boards)\n",
    "    if winner:\n",
    "        score = find_score(numbers_called[:i], winner)\n",
    "        break\n",
    "        \n",
    "print(score)"
   ]
  },
  {
   "cell_type": "markdown",
   "id": "65715fc1",
   "metadata": {},
   "source": [
    "## Part 2"
   ]
  },
  {
   "cell_type": "raw",
   "id": "5f29f824",
   "metadata": {},
   "source": [
    "On the other hand, it might be wise to try a different strategy: let the giant squid win.\n",
    "\n",
    "You aren't sure how many bingo boards a giant squid could play at once, so rather than waste time counting its arms, the safe thing to do is to figure out which board will win last and choose that one. That way, no matter which boards it picks, it will win for sure.\n",
    "\n",
    "In the above example, the second board is the last to win, which happens after 13 is eventually called and its middle column is completely marked. If you were to keep playing until this point, the second board would have a sum of unmarked numbers equal to 148 for a final score of 148 * 13 = 1924.\n",
    "\n",
    "Figure out which board will win last. Once it wins, what would its final score be?"
   ]
  },
  {
   "cell_type": "code",
   "execution_count": 5,
   "id": "00128482",
   "metadata": {},
   "outputs": [],
   "source": [
    "def find_winners(numbers_drawn, boards):\n",
    "    winners = []\n",
    "    for board in boards:\n",
    "        board_t = list(map(list, zip(*board)))\n",
    "        for b in [board, board_t]:\n",
    "            for row in b:\n",
    "                all_numbers_found = True\n",
    "                for number in row:\n",
    "                    if number not in numbers_drawn:\n",
    "                        all_numbers_found = False\n",
    "                        break\n",
    "                if all_numbers_found:\n",
    "                    if board not in winners:\n",
    "                        winners.append(board)\n",
    "    return winners"
   ]
  },
  {
   "cell_type": "code",
   "execution_count": 6,
   "id": "2aabeef2",
   "metadata": {},
   "outputs": [
    {
     "name": "stdout",
     "output_type": "stream",
     "text": [
      "23541\n"
     ]
    }
   ],
   "source": [
    "input4 = read_file('input04.txt')\n",
    "numbers_called = input4[0].split(',')\n",
    "\n",
    "boards = []\n",
    "for i in range(round(len(input4[2:])/6)):\n",
    "    boards.append([strip.split() for strip in input4[2+6*i:7+6*i]])\n",
    "\n",
    "for i in range(len(numbers_called)):\n",
    "    for winner in find_winners(numbers_called[:i], boards):\n",
    "        boards.remove(winner)\n",
    "        if len(boards) == 0:\n",
    "            score = find_score(numbers_called[:i], winner)\n",
    "            break\n",
    "        \n",
    "print(score)"
   ]
  },
  {
   "cell_type": "code",
   "execution_count": null,
   "id": "b3e7fb08",
   "metadata": {},
   "outputs": [],
   "source": []
  }
 ],
 "metadata": {
  "kernelspec": {
   "display_name": "Python 3",
   "language": "python",
   "name": "python3"
  },
  "language_info": {
   "codemirror_mode": {
    "name": "ipython",
    "version": 3
   },
   "file_extension": ".py",
   "mimetype": "text/x-python",
   "name": "python",
   "nbconvert_exporter": "python",
   "pygments_lexer": "ipython3",
   "version": "3.8.8"
  }
 },
 "nbformat": 4,
 "nbformat_minor": 5
}
