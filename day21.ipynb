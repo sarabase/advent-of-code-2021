{
 "cells": [
  {
   "cell_type": "code",
   "execution_count": 1,
   "id": "de03c6d3",
   "metadata": {},
   "outputs": [],
   "source": [
    "import os\n",
    "import numpy as np\n",
    "\n",
    "def read_file(filename='input.txt', path=os.path.join(os.getcwd())):\n",
    "    with open(os.path.join(path, filename), \"r\") as f:\n",
    "        input_list = [line.strip() for line in f]\n",
    "    return input_list"
   ]
  },
  {
   "cell_type": "markdown",
   "id": "306deb04",
   "metadata": {},
   "source": [
    "# Day 21"
   ]
  },
  {
   "cell_type": "markdown",
   "id": "02b1cadd",
   "metadata": {},
   "source": [
    "## Part 1"
   ]
  },
  {
   "cell_type": "raw",
   "id": "eb0c8736",
   "metadata": {},
   "source": [
    "There's not much to do as you slowly descend to the bottom of the ocean. The submarine computer challenges you to a nice game of Dirac Dice.\n",
    "\n",
    "This game consists of a single die, two pawns, and a game board with a circular track containing ten spaces marked 1 through 10 clockwise. Each player's starting space is chosen randomly (your puzzle input). Player 1 goes first.\n",
    "\n",
    "Players take turns moving. On each player's turn, the player rolls the die three times and adds up the results. Then, the player moves their pawn that many times forward around the track (that is, moving clockwise on spaces in order of increasing value, wrapping back around to 1 after 10). So, if a player is on space 7 and they roll 2, 2, and 1, they would move forward 5 times, to spaces 8, 9, 10, 1, and finally stopping on 2.\n",
    "\n",
    "After each player moves, they increase their score by the value of the space their pawn stopped on. Players' scores start at 0. So, if the first player starts on space 7 and rolls a total of 5, they would stop on space 2 and add 2 to their score (for a total score of 2). The game immediately ends as a win for any player whose score reaches at least 1000.\n",
    "\n",
    "Since the first game is a practice game, the submarine opens a compartment labeled deterministic dice and a 100-sided die falls out. This die always rolls 1 first, then 2, then 3, and so on up to 100, after which it starts over at 1 again. Play using this die.\n",
    "\n",
    "For example, given these starting positions:\n",
    "\n",
    "Player 1 starting position: 4\n",
    "Player 2 starting position: 8\n",
    "This is how the game would go:\n",
    "\n",
    "Player 1 rolls 1+2+3 and moves to space 10 for a total score of 10.\n",
    "Player 2 rolls 4+5+6 and moves to space 3 for a total score of 3.\n",
    "Player 1 rolls 7+8+9 and moves to space 4 for a total score of 14.\n",
    "Player 2 rolls 10+11+12 and moves to space 6 for a total score of 9.\n",
    "Player 1 rolls 13+14+15 and moves to space 6 for a total score of 20.\n",
    "Player 2 rolls 16+17+18 and moves to space 7 for a total score of 16.\n",
    "Player 1 rolls 19+20+21 and moves to space 6 for a total score of 26.\n",
    "Player 2 rolls 22+23+24 and moves to space 6 for a total score of 22.\n",
    "...after many turns...\n",
    "\n",
    "Player 2 rolls 82+83+84 and moves to space 6 for a total score of 742.\n",
    "Player 1 rolls 85+86+87 and moves to space 4 for a total score of 990.\n",
    "Player 2 rolls 88+89+90 and moves to space 3 for a total score of 745.\n",
    "Player 1 rolls 91+92+93 and moves to space 10 for a final score, 1000.\n",
    "Since player 1 has at least 1000 points, player 1 wins and the game ends. At this point, the losing player had 745 points and the die had been rolled a total of 993 times; 745 * 993 = 739785.\n",
    "\n",
    "Play a practice game using the deterministic 100-sided die. The moment either player wins, what do you get if you multiply the score of the losing player by the number of times the die was rolled during the game?"
   ]
  },
  {
   "cell_type": "code",
   "execution_count": 4,
   "id": "386363e7",
   "metadata": {},
   "outputs": [
    {
     "name": "stdout",
     "output_type": "stream",
     "text": [
      "Player 1 wins. Its score is 1006 after 1005 rolls. Final score is 925605\n"
     ]
    }
   ],
   "source": [
    "input21 = read_file('input21.txt')\n",
    "player1 = [int(input21[0][-1]), 0]\n",
    "player2 = [int(input21[1][-1]), 0]\n",
    "\n",
    "die = 1\n",
    "winner = False\n",
    "\n",
    "while not winner:\n",
    "    \n",
    "    this_die = 0\n",
    "    for _ in range(3):\n",
    "        this_die += (die - 1) % 100 + 1\n",
    "        die += 1\n",
    "        \n",
    "    player1[0] = (player1[0] + this_die - 1) % 10 + 1\n",
    "    player1[1] += player1[0]\n",
    "    \n",
    "    if player1[1]>=1000: break\n",
    "        \n",
    "    this_die = 0\n",
    "    for _ in range(3):\n",
    "        this_die += (die - 1) % 100 + 1\n",
    "        die += 1\n",
    "        \n",
    "    player2[0] = (player2[0] + this_die - 1) % 10 + 1\n",
    "    player2[1] += player2[0]\n",
    "    \n",
    "    if player2[1]>=1000: break\n",
    "    \n",
    "if player1[1] >= 1000:\n",
    "    print(f\"Player 1 wins. Its score is {player1[1]} after {die-1} rolls. Final score is {player2[1]*(die-1)}\")\n",
    "else:\n",
    "    print(f\"Player 2 wins. Its score is {player2[1]} after {die-1} rolls. Final score is {player1[1]*(die-1)}\")\n"
   ]
  },
  {
   "cell_type": "markdown",
   "id": "65715fc1",
   "metadata": {},
   "source": [
    "## Part 2"
   ]
  },
  {
   "cell_type": "raw",
   "id": "5f29f824",
   "metadata": {},
   "source": [
    "Now that you're warmed up, it's time to play the real game.\n",
    "\n",
    "A second compartment opens, this time labeled Dirac dice. Out of it falls a single three-sided die.\n",
    "\n",
    "As you experiment with the die, you feel a little strange. An informational brochure in the compartment explains that this is a quantum die: when you roll it, the universe splits into multiple copies, one copy for each possible outcome of the die. In this case, rolling the die always splits the universe into three copies: one where the outcome of the roll was 1, one where it was 2, and one where it was 3.\n",
    "\n",
    "The game is played the same as before, although to prevent things from getting too far out of hand, the game now ends when either player's score reaches at least 21.\n",
    "\n",
    "Using the same starting positions as in the example above, player 1 wins in 444356092776315 universes, while player 2 merely wins in 341960390180808 universes.\n",
    "\n",
    "Using your given starting positions, determine every possible outcome. Find the player that wins in more universes; in how many universes does that player win?"
   ]
  },
  {
   "cell_type": "code",
   "execution_count": 17,
   "id": "cfe91afc",
   "metadata": {},
   "outputs": [],
   "source": [
    "def count_winning_universes_per_player(player1, player2, turn, universes_per_score, win_points):\n",
    "    \n",
    "    wins1 = wins2 = 0\n",
    "    \n",
    "    for score in range(3, 10):\n",
    "        if turn == 1:\n",
    "            p1 = player1[0]\n",
    "            s1 = player1[1]\n",
    "            \n",
    "            p1 = (p1 + score - 1)%10 + 1\n",
    "            s1 += p1\n",
    "            \n",
    "            if s1 < win_points:\n",
    "                other_universe_wins1, other_universe_wins2 = count_winning_universes_per_player([p1, s1], [player2[0], player2[1]], 2, universes_per_score, win_points)\n",
    "                wins1 += other_universe_wins1 * universes_per_score[score]\n",
    "                wins2 += other_universe_wins2 * universes_per_score[score]\n",
    "            else:\n",
    "                wins1 += universes_per_score[score]\n",
    "        elif turn == 2:\n",
    "            p2 = player2[0]\n",
    "            s2 = player2[1]\n",
    "            \n",
    "            p2 = (p2 + score - 1)%10 + 1\n",
    "            s2 += p2\n",
    "            \n",
    "            if s2 < win_points:\n",
    "                other_universe_wins1, other_universe_wins2 = count_winning_universes_per_player([player1[0], player1[1]], [p2, s2], 1, universes_per_score, win_points)\n",
    "                wins1 += other_universe_wins1 * universes_per_score[score]\n",
    "                wins2 += other_universe_wins2 * universes_per_score[score]\n",
    "            else:\n",
    "                wins2 += universes_per_score[score]\n",
    "                \n",
    "    return wins1, wins2"
   ]
  },
  {
   "cell_type": "code",
   "execution_count": 18,
   "id": "2aabeef2",
   "metadata": {},
   "outputs": [
    {
     "name": "stdout",
     "output_type": "stream",
     "text": [
      "Player 1 wins in a total of 486638407378784 universes\n",
      "Player 2 wins in a total of 413013330504401 universes\n"
     ]
    }
   ],
   "source": [
    "input21 = read_file('input21.txt')\n",
    "player1 = [int(input21[0][-1]), 0]\n",
    "player2 = [int(input21[1][-1]), 0]\n",
    "\n",
    "#No need to enter every universe as some output the same score\n",
    "universes_per_score = [0, 0, 0, 1, 3, 6, 7, 6, 3, 1]\n",
    "\n",
    "first_turn = 1\n",
    "w1, w2 = count_winning_universes_per_player(player1, player2, first_turn, universes_per_score, 21)\n",
    "print(f\"Player 1 wins in a total of {w1} universes\")\n",
    "print(f\"Player 2 wins in a total of {w2} universes\")"
   ]
  },
  {
   "cell_type": "code",
   "execution_count": null,
   "id": "b3e7fb08",
   "metadata": {},
   "outputs": [],
   "source": []
  }
 ],
 "metadata": {
  "kernelspec": {
   "display_name": "Python 3",
   "language": "python",
   "name": "python3"
  },
  "language_info": {
   "codemirror_mode": {
    "name": "ipython",
    "version": 3
   },
   "file_extension": ".py",
   "mimetype": "text/x-python",
   "name": "python",
   "nbconvert_exporter": "python",
   "pygments_lexer": "ipython3",
   "version": "3.8.8"
  }
 },
 "nbformat": 4,
 "nbformat_minor": 5
}
