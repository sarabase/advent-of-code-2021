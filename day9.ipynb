{
 "cells": [
  {
   "cell_type": "code",
   "execution_count": 1,
   "id": "de03c6d3",
   "metadata": {},
   "outputs": [],
   "source": [
    "import os\n",
    "\n",
    "def read_file(filename='input.txt', path=os.path.join(os.getcwd())):\n",
    "    with open(os.path.join(path, filename), \"r\") as f:\n",
    "        input_list = [line.strip() for line in f]\n",
    "    return input_list"
   ]
  },
  {
   "cell_type": "markdown",
   "id": "306deb04",
   "metadata": {},
   "source": [
    "# Day 9"
   ]
  },
  {
   "cell_type": "markdown",
   "id": "02b1cadd",
   "metadata": {},
   "source": [
    "## Part 1"
   ]
  },
  {
   "cell_type": "raw",
   "id": "eb0c8736",
   "metadata": {},
   "source": [
    "These caves seem to be lava tubes. Parts are even still volcanically active; small hydrothermal vents release smoke into the caves that slowly settles like rain.\n",
    "\n",
    "If you can model how the smoke flows through the caves, you might be able to avoid it and be that much safer. The submarine generates a heightmap of the floor of the nearby caves for you (your puzzle input).\n",
    "\n",
    "Smoke flows to the lowest point of the area it's in. For example, consider the following heightmap:\n",
    "\n",
    "2199943210\n",
    "3987894921\n",
    "9856789892\n",
    "8767896789\n",
    "9899965678\n",
    "Each number corresponds to the height of a particular location, where 9 is the highest and 0 is the lowest a location can be.\n",
    "\n",
    "Your first goal is to find the low points - the locations that are lower than any of its adjacent locations. Most locations have four adjacent locations (up, down, left, and right); locations on the edge or corner of the map have three or two adjacent locations, respectively. (Diagonal locations do not count as adjacent.)\n",
    "\n",
    "In the above example, there are four low points, all highlighted: two are in the first row (a 1 and a 0), one is in the third row (a 5), and one is in the bottom row (also a 5). All other locations on the heightmap have some lower adjacent location, and so are not low points.\n",
    "\n",
    "The risk level of a low point is 1 plus its height. In the above example, the risk levels of the low points are 2, 1, 6, and 6. The sum of the risk levels of all low points in the heightmap is therefore 15.\n",
    "\n",
    "Find all of the low points on your heightmap. What is the sum of the risk levels of all low points on your heightmap?"
   ]
  },
  {
   "cell_type": "code",
   "execution_count": 2,
   "id": "386363e7",
   "metadata": {},
   "outputs": [
    {
     "name": "stdout",
     "output_type": "stream",
     "text": [
      "423\n"
     ]
    }
   ],
   "source": [
    "input9 = read_file('input9.txt')\n",
    "#input9 = ['2199943210', '3987894921', '9856789892', '8767896789', '9899965678',]\n",
    "data = []\n",
    "for row in input9:\n",
    "    r = [int(c) for c in row]\n",
    "    data.append(r)\n",
    "\n",
    "rows = len(data)\n",
    "cols = len(data[0])\n",
    "\n",
    "suma = 0\n",
    "for i in range(rows):\n",
    "    for j in range(cols):\n",
    "        if i-1 >= 0 and data[i][j] >= data[i-1][j]:\n",
    "            continue\n",
    "        if i+1 < rows and data[i][j] >= data[i+1][j]:\n",
    "            continue\n",
    "        if j+1 < cols and data[i][j] >= data[i][j+1]:\n",
    "            continue\n",
    "        if j-1 >= 0 and data[i][j] >= data[i][j-1]:\n",
    "            continue\n",
    "        suma += (1 + data[i][j])\n",
    "        \n",
    "print(suma)"
   ]
  },
  {
   "cell_type": "markdown",
   "id": "65715fc1",
   "metadata": {},
   "source": [
    "## Part 2"
   ]
  },
  {
   "cell_type": "raw",
   "id": "5f29f824",
   "metadata": {},
   "source": [
    "Next, you need to find the largest basins so you know what areas are most important to avoid.\n",
    "\n",
    "A basin is all locations that eventually flow downward to a single low point. Therefore, every low point has a basin, although some basins are very small. Locations of height 9 do not count as being in any basin, and all other locations will always be part of exactly one basin.\n",
    "\n",
    "The size of a basin is the number of locations within the basin, including the low point. The example above has four basins.\n",
    "\n",
    "The top-left basin, size 3:\n",
    "\n",
    "2199943210\n",
    "3987894921\n",
    "9856789892\n",
    "8767896789\n",
    "9899965678\n",
    "The top-right basin, size 9:\n",
    "\n",
    "2199943210\n",
    "3987894921\n",
    "9856789892\n",
    "8767896789\n",
    "9899965678\n",
    "The middle basin, size 14:\n",
    "\n",
    "2199943210\n",
    "3987894921\n",
    "9856789892\n",
    "8767896789\n",
    "9899965678\n",
    "The bottom-right basin, size 9:\n",
    "\n",
    "2199943210\n",
    "3987894921\n",
    "9856789892\n",
    "8767896789\n",
    "9899965678\n",
    "Find the three largest basins and multiply their sizes together. In the above example, this is 9 * 14 * 9 = 1134.\n",
    "\n",
    "What do you get if you multiply together the sizes of the three largest basins?"
   ]
  },
  {
   "cell_type": "code",
   "execution_count": 3,
   "id": "8931b4a2",
   "metadata": {},
   "outputs": [],
   "source": [
    "def find_basin(data, pos):\n",
    "    basin = my_recursive_fun(data, pos)\n",
    "    \n",
    "    final_basin = []\n",
    "    for pos in basin:\n",
    "        if pos not in final_basin:\n",
    "            final_basin.append(pos)\n",
    "            \n",
    "    return final_basin"
   ]
  },
  {
   "cell_type": "code",
   "execution_count": 4,
   "id": "5c31bf03",
   "metadata": {},
   "outputs": [],
   "source": [
    "def my_recursive_fun(data, pos):\n",
    "    \n",
    "    #Check directions we can go in\n",
    "    directions = []\n",
    "    #Can go top\n",
    "    directions.append(pos[0]-1 >= 0 and data[pos[0]][pos[1]] < data[pos[0]-1][pos[1]] and data[pos[0]-1][pos[1]] != 9)\n",
    "    #Can go bottom\n",
    "    directions.append(pos[0]+1 < len(data) and data[pos[0]][pos[1]] < data[pos[0]+1][pos[1]] and data[pos[0]+1][pos[1]] != 9)\n",
    "    #Can go left\n",
    "    directions.append(pos[1]-1 >= 0 and data[pos[0]][pos[1]] < data[pos[0]][pos[1]-1] and data[pos[0]][pos[1]-1] != 9)\n",
    "    #Can go right\n",
    "    directions.append(pos[1]+1 < len(data[0]) and data[pos[0]][pos[1]] < data[pos[0]][pos[1]+1] and data[pos[0]][pos[1]+1] != 9)\n",
    "    \n",
    "    if True not in directions:\n",
    "        return [pos]\n",
    "    \n",
    "    basin_pos = []\n",
    "    if directions[0]:\n",
    "        basin_pos += my_recursive_fun(data, (pos[0]-1, pos[1]))\n",
    "    if directions[1]:\n",
    "        basin_pos += my_recursive_fun(data, (pos[0]+1, pos[1]))\n",
    "    if directions[2]:\n",
    "        basin_pos += my_recursive_fun(data, (pos[0], pos[1]-1))\n",
    "    if directions[3]:\n",
    "        basin_pos += my_recursive_fun(data, (pos[0], pos[1]+1))\n",
    "    if pos not in basin_pos:\n",
    "        basin_pos += [pos]\n",
    "        \n",
    "    return basin_pos"
   ]
  },
  {
   "cell_type": "code",
   "execution_count": 5,
   "id": "2aabeef2",
   "metadata": {},
   "outputs": [
    {
     "name": "stdout",
     "output_type": "stream",
     "text": [
      "1198704\n"
     ]
    }
   ],
   "source": [
    "input9 = read_file('input9.txt')\n",
    "data = []\n",
    "for row in input9:\n",
    "    r = [int(c) for c in row]\n",
    "    data.append(r)\n",
    "\n",
    "rows = len(data)\n",
    "cols = len(data[0])\n",
    "\n",
    "results = []\n",
    "for i in range(rows):\n",
    "    for j in range(cols):\n",
    "        if i-1 >= 0 and data[i][j] >= data[i-1][j]:\n",
    "            continue\n",
    "        if i+1 < rows and data[i][j] >= data[i+1][j]:\n",
    "            continue\n",
    "        if j+1 < cols and data[i][j] >= data[i][j+1]:\n",
    "            continue\n",
    "        if j-1 >= 0 and data[i][j] >= data[i][j-1]:\n",
    "            continue\n",
    "        basin_pos = find_basin(data, (i, j))\n",
    "        results.append(len(basin_pos))\n",
    "\n",
    "results.sort()\n",
    "\n",
    "print(results[-1]*results[-2]*results[-3])"
   ]
  },
  {
   "cell_type": "code",
   "execution_count": null,
   "id": "b3e7fb08",
   "metadata": {},
   "outputs": [],
   "source": []
  }
 ],
 "metadata": {
  "kernelspec": {
   "display_name": "Python 3",
   "language": "python",
   "name": "python3"
  },
  "language_info": {
   "codemirror_mode": {
    "name": "ipython",
    "version": 3
   },
   "file_extension": ".py",
   "mimetype": "text/x-python",
   "name": "python",
   "nbconvert_exporter": "python",
   "pygments_lexer": "ipython3",
   "version": "3.8.8"
  }
 },
 "nbformat": 4,
 "nbformat_minor": 5
}
